{
 "cells": [
  {
   "cell_type": "code",
   "execution_count": 1,
   "metadata": {},
   "outputs": [
    {
     "name": "stderr",
     "output_type": "stream",
     "text": [
      "C:\\Users\\James\\Anaconda3\\lib\\site-packages\\sklearn\\cross_validation.py:41: DeprecationWarning: This module was deprecated in version 0.18 in favor of the model_selection module into which all the refactored classes and functions are moved. Also note that the interface of the new CV iterators are different from that of this module. This module will be removed in 0.20.\n",
      "  \"This module will be removed in 0.20.\", DeprecationWarning)\n"
     ]
    }
   ],
   "source": [
    "# importing modules\n",
    "import requests\n",
    "import pandas as pd\n",
    "import numpy as np\n",
    "import matplotlib.pyplot as plt\n",
    "\n",
    "from sklearn.model_selection import train_test_split\n",
    "from sklearn import preprocessing, cross_validation\n",
    "from sklearn import linear_model\n",
    "from sklearn.ensemble import RandomForestClassifier\n",
    "from sklearn.linear_model import LogisticRegression\n",
    "from sklearn.linear_model import LinearRegression\n",
    "from scipy.stats import iqr"
   ]
  },
  {
   "cell_type": "code",
   "execution_count": 2,
   "metadata": {},
   "outputs": [],
   "source": [
    "# Getting data\n",
    "skaters_url = 'http://www.nhl.com/stats/rest/skaters?isAggregate=false&reportType=basic&isGame=false&reportName=skatersummary&sort=[{%22property%22:%22points%22,%22direction%22:%22DESC%22},{%22property%22:%22goals%22,%22direction%22:%22DESC%22},{%22property%22:%22assists%22,%22direction%22:%22DESC%22}]&cayenneExp=gameTypeId=2%20and%20seasonId%3E=20172018%20and%20seasonId%3C=20172018'\n",
    "\n",
    "response = requests.get(skaters_url)\n",
    "response.raise_for_status()\n",
    "playerData = pd.DataFrame(response.json()['data'])\n",
    "salariesData = pd.read_csv('Salaries.csv')"
   ]
  },
  {
   "cell_type": "code",
   "execution_count": 3,
   "metadata": {},
   "outputs": [
    {
     "data": {
      "text/plain": [
       "['assists',\n",
       " 'faceoffWinPctg',\n",
       " 'gameWinningGoals',\n",
       " 'gamesPlayed',\n",
       " 'goals',\n",
       " 'otGoals',\n",
       " 'penaltyMinutes',\n",
       " 'playerBirthCity',\n",
       " 'playerBirthCountry',\n",
       " 'playerBirthDate',\n",
       " 'playerBirthStateProvince',\n",
       " 'playerDraftOverallPickNo',\n",
       " 'playerDraftRoundNo',\n",
       " 'playerDraftYear',\n",
       " 'playerFirstName',\n",
       " 'playerHeight',\n",
       " 'playerId',\n",
       " 'playerInHockeyHof',\n",
       " 'playerIsActive',\n",
       " 'playerLastName',\n",
       " 'playerName',\n",
       " 'playerNationality',\n",
       " 'playerPositionCode',\n",
       " 'playerShootsCatches',\n",
       " 'playerTeamsPlayedFor',\n",
       " 'playerWeight',\n",
       " 'plusMinus',\n",
       " 'points',\n",
       " 'pointsPerGame',\n",
       " 'ppGoals',\n",
       " 'ppPoints',\n",
       " 'seasonId',\n",
       " 'shGoals',\n",
       " 'shPoints',\n",
       " 'shiftsPerGame',\n",
       " 'shootingPctg',\n",
       " 'shots',\n",
       " 'timeOnIcePerGame']"
      ]
     },
     "execution_count": 3,
     "metadata": {},
     "output_type": "execute_result"
    }
   ],
   "source": [
    "# Checking out data features\n",
    "list(playerData)"
   ]
  },
  {
   "cell_type": "code",
   "execution_count": 4,
   "metadata": {},
   "outputs": [],
   "source": [
    "# Dropping goalies and defenceman \n",
    "playerData = playerData[playerData.playerPositionCode != 'D']\n",
    "playerData = playerData[playerData.playerPositionCode != 'G']"
   ]
  },
  {
   "cell_type": "code",
   "execution_count": 5,
   "metadata": {},
   "outputs": [
    {
     "data": {
      "text/plain": [
       "['assists',\n",
       " 'gamesPlayed',\n",
       " 'goals',\n",
       " 'otGoals',\n",
       " 'playerBirthDate',\n",
       " 'playerDraftOverallPickNo',\n",
       " 'playerId',\n",
       " 'playerIsActive',\n",
       " 'plusMinus',\n",
       " 'pointsPerGame',\n",
       " 'ppGoals',\n",
       " 'ppPoints',\n",
       " 'shootingPctg',\n",
       " 'shots',\n",
       " 'timeOnIcePerGame']"
      ]
     },
     "execution_count": 5,
     "metadata": {},
     "output_type": "execute_result"
    }
   ],
   "source": [
    "# Dropping features that shouldn't affect salary and checking that they were dropped\n",
    "playerData = playerData.drop(columns=['playerBirthCity', 'playerBirthCountry', 'playerBirthStateProvince',\n",
    "                                      'playerInHockeyHof', 'playerFirstName', 'playerLastName', 'playerNationality', 'playerDraftYear',\n",
    "                                      'playerDraftRoundNo', 'playerTeamsPlayedFor', 'seasonId', 'playerPositionCode', 'playerShootsCatches',\n",
    "                                      'playerName', 'faceoffWinPctg', 'gameWinningGoals', 'points', 'penaltyMinutes', 'shiftsPerGame',\n",
    "                                      'shPoints', 'shGoals', 'playerWeight', 'playerHeight'])\n",
    "list(playerData)\n"
   ]
  },
  {
   "cell_type": "code",
   "execution_count": 6,
   "metadata": {},
   "outputs": [],
   "source": [
    "# Removing inactive players and checking to make sure all the data is active players\n",
    "playerData = playerData.query('playerIsActive != 0')\n",
    "playerData = playerData.drop(columns=['playerIsActive'])"
   ]
  },
  {
   "cell_type": "code",
   "execution_count": 7,
   "metadata": {},
   "outputs": [
    {
     "data": {
      "text/html": [
       "<div>\n",
       "<style scoped>\n",
       "    .dataframe tbody tr th:only-of-type {\n",
       "        vertical-align: middle;\n",
       "    }\n",
       "\n",
       "    .dataframe tbody tr th {\n",
       "        vertical-align: top;\n",
       "    }\n",
       "\n",
       "    .dataframe thead th {\n",
       "        text-align: right;\n",
       "    }\n",
       "</style>\n",
       "<table border=\"1\" class=\"dataframe\">\n",
       "  <thead>\n",
       "    <tr style=\"text-align: right;\">\n",
       "      <th></th>\n",
       "      <th>assists</th>\n",
       "      <th>gamesPlayed</th>\n",
       "      <th>goals</th>\n",
       "      <th>otGoals</th>\n",
       "      <th>playerBirthDate</th>\n",
       "      <th>playerDraftOverallPickNo</th>\n",
       "      <th>plusMinus</th>\n",
       "      <th>pointsPerGame</th>\n",
       "      <th>ppGoals</th>\n",
       "      <th>ppPoints</th>\n",
       "      <th>shootingPctg</th>\n",
       "      <th>shots</th>\n",
       "      <th>timeOnIcePerGame</th>\n",
       "    </tr>\n",
       "    <tr>\n",
       "      <th>playerId</th>\n",
       "      <th></th>\n",
       "      <th></th>\n",
       "      <th></th>\n",
       "      <th></th>\n",
       "      <th></th>\n",
       "      <th></th>\n",
       "      <th></th>\n",
       "      <th></th>\n",
       "      <th></th>\n",
       "      <th></th>\n",
       "      <th></th>\n",
       "      <th></th>\n",
       "      <th></th>\n",
       "    </tr>\n",
       "  </thead>\n",
       "  <tbody>\n",
       "    <tr>\n",
       "      <th>8478402</th>\n",
       "      <td>67</td>\n",
       "      <td>82</td>\n",
       "      <td>41</td>\n",
       "      <td>2</td>\n",
       "      <td>1997-01-13</td>\n",
       "      <td>1.0</td>\n",
       "      <td>20</td>\n",
       "      <td>1.3170</td>\n",
       "      <td>5</td>\n",
       "      <td>20</td>\n",
       "      <td>0.1496</td>\n",
       "      <td>274</td>\n",
       "      <td>1293.0975</td>\n",
       "    </tr>\n",
       "    <tr>\n",
       "      <th>8473512</th>\n",
       "      <td>68</td>\n",
       "      <td>82</td>\n",
       "      <td>34</td>\n",
       "      <td>1</td>\n",
       "      <td>1988-01-12</td>\n",
       "      <td>22.0</td>\n",
       "      <td>28</td>\n",
       "      <td>1.2439</td>\n",
       "      <td>9</td>\n",
       "      <td>36</td>\n",
       "      <td>0.1761</td>\n",
       "      <td>193</td>\n",
       "      <td>1221.8048</td>\n",
       "    </tr>\n",
       "    <tr>\n",
       "      <th>8476453</th>\n",
       "      <td>61</td>\n",
       "      <td>80</td>\n",
       "      <td>39</td>\n",
       "      <td>0</td>\n",
       "      <td>1993-06-17</td>\n",
       "      <td>58.0</td>\n",
       "      <td>15</td>\n",
       "      <td>1.2500</td>\n",
       "      <td>8</td>\n",
       "      <td>36</td>\n",
       "      <td>0.1397</td>\n",
       "      <td>279</td>\n",
       "      <td>1189.2875</td>\n",
       "    </tr>\n",
       "    <tr>\n",
       "      <th>8471215</th>\n",
       "      <td>56</td>\n",
       "      <td>78</td>\n",
       "      <td>42</td>\n",
       "      <td>2</td>\n",
       "      <td>1986-07-31</td>\n",
       "      <td>2.0</td>\n",
       "      <td>16</td>\n",
       "      <td>1.2564</td>\n",
       "      <td>14</td>\n",
       "      <td>38</td>\n",
       "      <td>0.1757</td>\n",
       "      <td>239</td>\n",
       "      <td>1139.3974</td>\n",
       "    </tr>\n",
       "    <tr>\n",
       "      <th>8477492</th>\n",
       "      <td>58</td>\n",
       "      <td>74</td>\n",
       "      <td>39</td>\n",
       "      <td>3</td>\n",
       "      <td>1995-09-01</td>\n",
       "      <td>1.0</td>\n",
       "      <td>11</td>\n",
       "      <td>1.3108</td>\n",
       "      <td>12</td>\n",
       "      <td>32</td>\n",
       "      <td>0.1373</td>\n",
       "      <td>284</td>\n",
       "      <td>1194.3108</td>\n",
       "    </tr>\n",
       "  </tbody>\n",
       "</table>\n",
       "</div>"
      ],
      "text/plain": [
       "          assists  gamesPlayed  goals  otGoals playerBirthDate  \\\n",
       "playerId                                                         \n",
       "8478402        67           82     41        2      1997-01-13   \n",
       "8473512        68           82     34        1      1988-01-12   \n",
       "8476453        61           80     39        0      1993-06-17   \n",
       "8471215        56           78     42        2      1986-07-31   \n",
       "8477492        58           74     39        3      1995-09-01   \n",
       "\n",
       "          playerDraftOverallPickNo  plusMinus  pointsPerGame  ppGoals  \\\n",
       "playerId                                                                \n",
       "8478402                        1.0         20         1.3170        5   \n",
       "8473512                       22.0         28         1.2439        9   \n",
       "8476453                       58.0         15         1.2500        8   \n",
       "8471215                        2.0         16         1.2564       14   \n",
       "8477492                        1.0         11         1.3108       12   \n",
       "\n",
       "          ppPoints  shootingPctg  shots  timeOnIcePerGame  \n",
       "playerId                                                   \n",
       "8478402         20        0.1496    274         1293.0975  \n",
       "8473512         36        0.1761    193         1221.8048  \n",
       "8476453         36        0.1397    279         1189.2875  \n",
       "8471215         38        0.1757    239         1139.3974  \n",
       "8477492         32        0.1373    284         1194.3108  "
      ]
     },
     "execution_count": 7,
     "metadata": {},
     "output_type": "execute_result"
    }
   ],
   "source": [
    "# Setting the index of the dataframe to the players unique nhl player id\n",
    "playerData = playerData.set_index('playerId')\n",
    "playerData.head()"
   ]
  },
  {
   "cell_type": "code",
   "execution_count": 8,
   "metadata": {},
   "outputs": [
    {
     "data": {
      "text/plain": [
       "assists                      0\n",
       "gamesPlayed                  0\n",
       "goals                        0\n",
       "otGoals                      0\n",
       "playerBirthDate              0\n",
       "playerDraftOverallPickNo    69\n",
       "plusMinus                    0\n",
       "pointsPerGame                0\n",
       "ppGoals                      0\n",
       "ppPoints                     0\n",
       "shootingPctg                 0\n",
       "shots                        0\n",
       "timeOnIcePerGame             0\n",
       "dtype: int64"
      ]
     },
     "execution_count": 8,
     "metadata": {},
     "output_type": "execute_result"
    }
   ],
   "source": [
    "# Checking for any missing values\n",
    "playerData.isna().sum()"
   ]
  },
  {
   "cell_type": "code",
   "execution_count": 9,
   "metadata": {},
   "outputs": [
    {
     "name": "stdout",
     "output_type": "stream",
     "text": [
      "279.0\n"
     ]
    }
   ],
   "source": [
    "# We can see that 69 forwards went undrafted so we will check to see\n",
    "# the max draft number\n",
    "maxDraftNum = playerData['playerDraftOverallPickNo'].max()\n",
    "print(maxDraftNum)"
   ]
  },
  {
   "cell_type": "code",
   "execution_count": 10,
   "metadata": {},
   "outputs": [],
   "source": [
    "# Filling undrafted players draft number with max draft number +1 \n",
    "playerData['playerDraftOverallPickNo'] = playerData['playerDraftOverallPickNo'].fillna(maxDraftNum + 1)"
   ]
  },
  {
   "cell_type": "code",
   "execution_count": 11,
   "metadata": {},
   "outputs": [
    {
     "data": {
      "text/plain": [
       "assists                     0\n",
       "gamesPlayed                 0\n",
       "goals                       0\n",
       "otGoals                     0\n",
       "playerBirthDate             0\n",
       "playerDraftOverallPickNo    0\n",
       "plusMinus                   0\n",
       "pointsPerGame               0\n",
       "ppGoals                     0\n",
       "ppPoints                    0\n",
       "shootingPctg                0\n",
       "shots                       0\n",
       "timeOnIcePerGame            0\n",
       "dtype: int64"
      ]
     },
     "execution_count": 11,
     "metadata": {},
     "output_type": "execute_result"
    }
   ],
   "source": [
    "# Checking to see if the missing values were filled in\n",
    "playerData.isna().sum()"
   ]
  },
  {
   "cell_type": "code",
   "execution_count": 12,
   "metadata": {},
   "outputs": [
    {
     "name": "stdout",
     "output_type": "stream",
     "text": [
      "object\n",
      "playerId\n",
      "8478402    1997-01-13\n",
      "Name: playerBirthDate, dtype: object\n"
     ]
    }
   ],
   "source": [
    "# Checking format and data type of playerBirtDate\n",
    "print(playerData.playerBirthDate.dtype)\n",
    "print(playerData[:1].playerBirthDate)"
   ]
  },
  {
   "cell_type": "code",
   "execution_count": 13,
   "metadata": {},
   "outputs": [
    {
     "data": {
      "text/html": [
       "<div>\n",
       "<style scoped>\n",
       "    .dataframe tbody tr th:only-of-type {\n",
       "        vertical-align: middle;\n",
       "    }\n",
       "\n",
       "    .dataframe tbody tr th {\n",
       "        vertical-align: top;\n",
       "    }\n",
       "\n",
       "    .dataframe thead th {\n",
       "        text-align: right;\n",
       "    }\n",
       "</style>\n",
       "<table border=\"1\" class=\"dataframe\">\n",
       "  <thead>\n",
       "    <tr style=\"text-align: right;\">\n",
       "      <th></th>\n",
       "      <th>assists</th>\n",
       "      <th>gamesPlayed</th>\n",
       "      <th>goals</th>\n",
       "      <th>otGoals</th>\n",
       "      <th>playerDraftOverallPickNo</th>\n",
       "      <th>plusMinus</th>\n",
       "      <th>pointsPerGame</th>\n",
       "      <th>ppGoals</th>\n",
       "      <th>ppPoints</th>\n",
       "      <th>shootingPctg</th>\n",
       "      <th>shots</th>\n",
       "      <th>timeOnIcePerGame</th>\n",
       "      <th>age</th>\n",
       "    </tr>\n",
       "    <tr>\n",
       "      <th>playerId</th>\n",
       "      <th></th>\n",
       "      <th></th>\n",
       "      <th></th>\n",
       "      <th></th>\n",
       "      <th></th>\n",
       "      <th></th>\n",
       "      <th></th>\n",
       "      <th></th>\n",
       "      <th></th>\n",
       "      <th></th>\n",
       "      <th></th>\n",
       "      <th></th>\n",
       "      <th></th>\n",
       "    </tr>\n",
       "  </thead>\n",
       "  <tbody>\n",
       "    <tr>\n",
       "      <th>8478402</th>\n",
       "      <td>67</td>\n",
       "      <td>82</td>\n",
       "      <td>41</td>\n",
       "      <td>2</td>\n",
       "      <td>1.0</td>\n",
       "      <td>20</td>\n",
       "      <td>1.3170</td>\n",
       "      <td>5</td>\n",
       "      <td>20</td>\n",
       "      <td>0.1496</td>\n",
       "      <td>274</td>\n",
       "      <td>1293.0975</td>\n",
       "      <td>20</td>\n",
       "    </tr>\n",
       "    <tr>\n",
       "      <th>8473512</th>\n",
       "      <td>68</td>\n",
       "      <td>82</td>\n",
       "      <td>34</td>\n",
       "      <td>1</td>\n",
       "      <td>22.0</td>\n",
       "      <td>28</td>\n",
       "      <td>1.2439</td>\n",
       "      <td>9</td>\n",
       "      <td>36</td>\n",
       "      <td>0.1761</td>\n",
       "      <td>193</td>\n",
       "      <td>1221.8048</td>\n",
       "      <td>29</td>\n",
       "    </tr>\n",
       "    <tr>\n",
       "      <th>8476453</th>\n",
       "      <td>61</td>\n",
       "      <td>80</td>\n",
       "      <td>39</td>\n",
       "      <td>0</td>\n",
       "      <td>58.0</td>\n",
       "      <td>15</td>\n",
       "      <td>1.2500</td>\n",
       "      <td>8</td>\n",
       "      <td>36</td>\n",
       "      <td>0.1397</td>\n",
       "      <td>279</td>\n",
       "      <td>1189.2875</td>\n",
       "      <td>24</td>\n",
       "    </tr>\n",
       "    <tr>\n",
       "      <th>8471215</th>\n",
       "      <td>56</td>\n",
       "      <td>78</td>\n",
       "      <td>42</td>\n",
       "      <td>2</td>\n",
       "      <td>2.0</td>\n",
       "      <td>16</td>\n",
       "      <td>1.2564</td>\n",
       "      <td>14</td>\n",
       "      <td>38</td>\n",
       "      <td>0.1757</td>\n",
       "      <td>239</td>\n",
       "      <td>1139.3974</td>\n",
       "      <td>31</td>\n",
       "    </tr>\n",
       "    <tr>\n",
       "      <th>8477492</th>\n",
       "      <td>58</td>\n",
       "      <td>74</td>\n",
       "      <td>39</td>\n",
       "      <td>3</td>\n",
       "      <td>1.0</td>\n",
       "      <td>11</td>\n",
       "      <td>1.3108</td>\n",
       "      <td>12</td>\n",
       "      <td>32</td>\n",
       "      <td>0.1373</td>\n",
       "      <td>284</td>\n",
       "      <td>1194.3108</td>\n",
       "      <td>22</td>\n",
       "    </tr>\n",
       "  </tbody>\n",
       "</table>\n",
       "</div>"
      ],
      "text/plain": [
       "          assists  gamesPlayed  goals  otGoals  playerDraftOverallPickNo  \\\n",
       "playerId                                                                   \n",
       "8478402        67           82     41        2                       1.0   \n",
       "8473512        68           82     34        1                      22.0   \n",
       "8476453        61           80     39        0                      58.0   \n",
       "8471215        56           78     42        2                       2.0   \n",
       "8477492        58           74     39        3                       1.0   \n",
       "\n",
       "          plusMinus  pointsPerGame  ppGoals  ppPoints  shootingPctg  shots  \\\n",
       "playerId                                                                     \n",
       "8478402          20         1.3170        5        20        0.1496    274   \n",
       "8473512          28         1.2439        9        36        0.1761    193   \n",
       "8476453          15         1.2500        8        36        0.1397    279   \n",
       "8471215          16         1.2564       14        38        0.1757    239   \n",
       "8477492          11         1.3108       12        32        0.1373    284   \n",
       "\n",
       "          timeOnIcePerGame  age  \n",
       "playerId                         \n",
       "8478402          1293.0975   20  \n",
       "8473512          1221.8048   29  \n",
       "8476453          1189.2875   24  \n",
       "8471215          1139.3974   31  \n",
       "8477492          1194.3108   22  "
      ]
     },
     "execution_count": 13,
     "metadata": {},
     "output_type": "execute_result"
    }
   ],
   "source": [
    "# Adding age column and roughly calculating age based off birth year *note player data is from 2017-2018 season\n",
    "playerData['playerBirthDate'] = playerData['playerBirthDate'].apply(lambda x: x[:4])\n",
    "playerData['age'] = 2017 - playerData['playerBirthDate'].astype(int)\n",
    "playerData = playerData.drop(columns=['playerBirthDate'])\n",
    "playerData.head()"
   ]
  },
  {
   "cell_type": "code",
   "execution_count": 14,
   "metadata": {},
   "outputs": [],
   "source": [
    "# Calculating goals per game\n",
    "playerData['goalsPerGame'] = playerData['goals']/playerData['gamesPlayed']\n",
    "playerData['assistsPerGame'] = playerData['assists']/playerData['gamesPlayed']\n",
    "\n",
    "\n",
    "playerData = playerData.drop(columns=['gamesPlayed'])"
   ]
  },
  {
   "cell_type": "code",
   "execution_count": 15,
   "metadata": {},
   "outputs": [
    {
     "data": {
      "text/html": [
       "<div>\n",
       "<style scoped>\n",
       "    .dataframe tbody tr th:only-of-type {\n",
       "        vertical-align: middle;\n",
       "    }\n",
       "\n",
       "    .dataframe tbody tr th {\n",
       "        vertical-align: top;\n",
       "    }\n",
       "\n",
       "    .dataframe thead th {\n",
       "        text-align: right;\n",
       "    }\n",
       "</style>\n",
       "<table border=\"1\" class=\"dataframe\">\n",
       "  <thead>\n",
       "    <tr style=\"text-align: right;\">\n",
       "      <th></th>\n",
       "      <th>Salary</th>\n",
       "    </tr>\n",
       "    <tr>\n",
       "      <th>NHLid</th>\n",
       "      <th></th>\n",
       "    </tr>\n",
       "  </thead>\n",
       "  <tbody>\n",
       "    <tr>\n",
       "      <th>8474625</th>\n",
       "      <td>700000.0</td>\n",
       "    </tr>\n",
       "    <tr>\n",
       "      <th>8474627</th>\n",
       "      <td>4700000.0</td>\n",
       "    </tr>\n",
       "    <tr>\n",
       "      <th>8474628</th>\n",
       "      <td>3500000.0</td>\n",
       "    </tr>\n",
       "    <tr>\n",
       "      <th>8468486</th>\n",
       "      <td>1000000.0</td>\n",
       "    </tr>\n",
       "    <tr>\n",
       "      <th>8468493</th>\n",
       "      <td>3600000.0</td>\n",
       "    </tr>\n",
       "  </tbody>\n",
       "</table>\n",
       "</div>"
      ],
      "text/plain": [
       "            Salary\n",
       "NHLid             \n",
       "8474625   700000.0\n",
       "8474627  4700000.0\n",
       "8474628  3500000.0\n",
       "8468486  1000000.0\n",
       "8468493  3600000.0"
      ]
     },
     "execution_count": 15,
     "metadata": {},
     "output_type": "execute_result"
    }
   ],
   "source": [
    "# Setting the index for salary dataframe to the players unique nhl player id\n",
    "salariesData = salariesData.set_index('NHLid')\n",
    "salariesData.head()"
   ]
  },
  {
   "cell_type": "code",
   "execution_count": 16,
   "metadata": {},
   "outputs": [
    {
     "data": {
      "text/plain": [
       "Salary    9\n",
       "dtype: int64"
      ]
     },
     "execution_count": 16,
     "metadata": {},
     "output_type": "execute_result"
    }
   ],
   "source": [
    "# Checking for missing salaries\n",
    "salariesData.isna().sum()"
   ]
  },
  {
   "cell_type": "code",
   "execution_count": 17,
   "metadata": {},
   "outputs": [
    {
     "name": "stdout",
     "output_type": "stream",
     "text": [
      "Salary    0\n",
      "dtype: int64\n",
      "             Salary\n",
      "count  8.810000e+02\n",
      "mean   2.442917e+06\n",
      "std    2.441001e+06\n",
      "min    6.500000e+05\n",
      "25%    7.425000e+05\n",
      "50%    9.250000e+05\n",
      "75%    4.000000e+06\n",
      "max    1.380000e+07\n"
     ]
    }
   ],
   "source": [
    "# Dropping missing salaries also getting basic stats on the salaries\n",
    "# Note that Q3 is at 4,000,000\n",
    "salariesData.dropna(inplace=True)\n",
    "print(salariesData.isna().sum())\n",
    "print(salariesData.describe())"
   ]
  },
  {
   "cell_type": "code",
   "execution_count": 18,
   "metadata": {},
   "outputs": [
    {
     "name": "stdout",
     "output_type": "stream",
     "text": [
      "8886250.0\n"
     ]
    }
   ],
   "source": [
    "# Calculating high outliers and removing them from data prints the outlier fence just for my info\n",
    "q3 = 4000000\n",
    "iqr=iqr(salariesData)\n",
    "fence = (q3 + (1.5*iqr))\n",
    "print(fence)\n",
    "salariesData = salariesData[salariesData.Salary < fence]\n"
   ]
  },
  {
   "cell_type": "code",
   "execution_count": 19,
   "metadata": {},
   "outputs": [
    {
     "data": {
      "text/plain": [
       "Salary    8750000.0\n",
       "dtype: float64"
      ]
     },
     "execution_count": 19,
     "metadata": {},
     "output_type": "execute_result"
    }
   ],
   "source": [
    "# Checking to see if outliers are dropped\n",
    "salariesData.max()"
   ]
  },
  {
   "cell_type": "code",
   "execution_count": 20,
   "metadata": {},
   "outputs": [
    {
     "data": {
      "text/plain": [
       "['assists',\n",
       " 'goals',\n",
       " 'otGoals',\n",
       " 'playerDraftOverallPickNo',\n",
       " 'plusMinus',\n",
       " 'pointsPerGame',\n",
       " 'ppGoals',\n",
       " 'ppPoints',\n",
       " 'shootingPctg',\n",
       " 'shots',\n",
       " 'timeOnIcePerGame',\n",
       " 'age',\n",
       " 'goalsPerGame',\n",
       " 'assistsPerGame',\n",
       " 'Salary']"
      ]
     },
     "execution_count": 20,
     "metadata": {},
     "output_type": "execute_result"
    }
   ],
   "source": [
    "# Joining the two data sets and checking to see if they joined properly\n",
    "data = playerData.join(salariesData)\n",
    "list(data)"
   ]
  },
  {
   "cell_type": "code",
   "execution_count": 21,
   "metadata": {},
   "outputs": [
    {
     "data": {
      "text/html": [
       "<div>\n",
       "<style scoped>\n",
       "    .dataframe tbody tr th:only-of-type {\n",
       "        vertical-align: middle;\n",
       "    }\n",
       "\n",
       "    .dataframe tbody tr th {\n",
       "        vertical-align: top;\n",
       "    }\n",
       "\n",
       "    .dataframe thead th {\n",
       "        text-align: right;\n",
       "    }\n",
       "</style>\n",
       "<table border=\"1\" class=\"dataframe\">\n",
       "  <thead>\n",
       "    <tr style=\"text-align: right;\">\n",
       "      <th></th>\n",
       "      <th>assists</th>\n",
       "      <th>goals</th>\n",
       "      <th>otGoals</th>\n",
       "      <th>playerDraftOverallPickNo</th>\n",
       "      <th>plusMinus</th>\n",
       "      <th>pointsPerGame</th>\n",
       "      <th>ppGoals</th>\n",
       "      <th>ppPoints</th>\n",
       "      <th>shootingPctg</th>\n",
       "      <th>shots</th>\n",
       "      <th>timeOnIcePerGame</th>\n",
       "      <th>age</th>\n",
       "      <th>goalsPerGame</th>\n",
       "      <th>assistsPerGame</th>\n",
       "      <th>Salary</th>\n",
       "    </tr>\n",
       "    <tr>\n",
       "      <th>playerId</th>\n",
       "      <th></th>\n",
       "      <th></th>\n",
       "      <th></th>\n",
       "      <th></th>\n",
       "      <th></th>\n",
       "      <th></th>\n",
       "      <th></th>\n",
       "      <th></th>\n",
       "      <th></th>\n",
       "      <th></th>\n",
       "      <th></th>\n",
       "      <th></th>\n",
       "      <th></th>\n",
       "      <th></th>\n",
       "      <th></th>\n",
       "    </tr>\n",
       "  </thead>\n",
       "  <tbody>\n",
       "    <tr>\n",
       "      <th>8474625</th>\n",
       "      <td>6</td>\n",
       "      <td>3</td>\n",
       "      <td>0</td>\n",
       "      <td>60.0</td>\n",
       "      <td>-2</td>\n",
       "      <td>0.2727</td>\n",
       "      <td>1</td>\n",
       "      <td>1</td>\n",
       "      <td>0.081</td>\n",
       "      <td>37</td>\n",
       "      <td>715.6666</td>\n",
       "      <td>28</td>\n",
       "      <td>0.090909</td>\n",
       "      <td>0.181818</td>\n",
       "      <td>700000.0</td>\n",
       "    </tr>\n",
       "  </tbody>\n",
       "</table>\n",
       "</div>"
      ],
      "text/plain": [
       "          assists  goals  otGoals  playerDraftOverallPickNo  plusMinus  \\\n",
       "playerId                                                                 \n",
       "8474625         6      3        0                      60.0         -2   \n",
       "\n",
       "          pointsPerGame  ppGoals  ppPoints  shootingPctg  shots  \\\n",
       "playerId                                                          \n",
       "8474625          0.2727        1         1         0.081     37   \n",
       "\n",
       "          timeOnIcePerGame  age  goalsPerGame  assistsPerGame    Salary  \n",
       "playerId                                                                 \n",
       "8474625           715.6666   28      0.090909        0.181818  700000.0  "
      ]
     },
     "execution_count": 21,
     "metadata": {},
     "output_type": "execute_result"
    }
   ],
   "source": [
    "# Checking a known players salary to make sure everything worked by indexing to their player id\n",
    "data.loc[[8474625]]"
   ]
  },
  {
   "cell_type": "code",
   "execution_count": 22,
   "metadata": {},
   "outputs": [
    {
     "data": {
      "text/plain": [
       "21"
      ]
     },
     "execution_count": 22,
     "metadata": {},
     "output_type": "execute_result"
    }
   ],
   "source": [
    "# Checking how many players have missing salaries\n",
    "data['Salary'].isna().sum()"
   ]
  },
  {
   "cell_type": "code",
   "execution_count": 23,
   "metadata": {},
   "outputs": [
    {
     "data": {
      "text/plain": [
       "assists                     0\n",
       "goals                       0\n",
       "otGoals                     0\n",
       "playerDraftOverallPickNo    0\n",
       "plusMinus                   0\n",
       "pointsPerGame               0\n",
       "ppGoals                     0\n",
       "ppPoints                    0\n",
       "shootingPctg                0\n",
       "shots                       0\n",
       "timeOnIcePerGame            0\n",
       "age                         0\n",
       "goalsPerGame                0\n",
       "assistsPerGame              0\n",
       "Salary                      0\n",
       "dtype: int64"
      ]
     },
     "execution_count": 23,
     "metadata": {},
     "output_type": "execute_result"
    }
   ],
   "source": [
    "# Dropping rows with missing salary data and checking to make sure we have no more missing values\n",
    "data = data.dropna(subset=['Salary'])\n",
    "data.isna().sum()"
   ]
  },
  {
   "cell_type": "code",
   "execution_count": 24,
   "metadata": {},
   "outputs": [
    {
     "data": {
      "text/plain": [
       "assists                       int64\n",
       "goals                         int64\n",
       "otGoals                       int64\n",
       "playerDraftOverallPickNo    float64\n",
       "plusMinus                     int64\n",
       "pointsPerGame               float64\n",
       "ppGoals                       int64\n",
       "ppPoints                      int64\n",
       "shootingPctg                float64\n",
       "shots                         int64\n",
       "timeOnIcePerGame            float64\n",
       "age                           int32\n",
       "goalsPerGame                float64\n",
       "assistsPerGame              float64\n",
       "Salary                      float64\n",
       "dtype: object"
      ]
     },
     "execution_count": 24,
     "metadata": {},
     "output_type": "execute_result"
    }
   ],
   "source": [
    "# Checking data types\n",
    "data.dtypes"
   ]
  },
  {
   "cell_type": "code",
   "execution_count": 25,
   "metadata": {},
   "outputs": [
    {
     "data": {
      "text/plain": [
       "count    5.060000e+02\n",
       "mean     2.232818e+06\n",
       "std      2.114787e+06\n",
       "min      6.500000e+05\n",
       "25%      7.425000e+05\n",
       "50%      9.250000e+05\n",
       "75%      3.500000e+06\n",
       "max      8.750000e+06\n",
       "Name: Salary, dtype: float64"
      ]
     },
     "execution_count": 25,
     "metadata": {},
     "output_type": "execute_result"
    }
   ],
   "source": [
    "# Basic statistics on salary\n",
    "data.Salary.describe()"
   ]
  },
  {
   "cell_type": "code",
   "execution_count": 26,
   "metadata": {},
   "outputs": [
    {
     "data": {
      "text/plain": [
       "assists                     3.300000e+01\n",
       "goals                       3.000000e+01\n",
       "otGoals                     0.000000e+00\n",
       "playerDraftOverallPickNo    4.500000e+01\n",
       "plusMinus                   2.100000e+01\n",
       "pointsPerGame               9.843000e-01\n",
       "ppGoals                     1.000000e+01\n",
       "ppPoints                    2.100000e+01\n",
       "shootingPctg                1.339000e-01\n",
       "shots                       2.240000e+02\n",
       "timeOnIcePerGame            1.166250e+03\n",
       "age                         3.200000e+01\n",
       "goalsPerGame                4.687500e-01\n",
       "assistsPerGame              5.156250e-01\n",
       "Salary                      8.750000e+06\n",
       "Name: 8470638, dtype: float64"
      ]
     },
     "execution_count": 26,
     "metadata": {},
     "output_type": "execute_result"
    }
   ],
   "source": [
    "# Getting info on highest paid player in our dataset\n",
    "data.loc[data['Salary'].idxmax()]"
   ]
  },
  {
   "cell_type": "code",
   "execution_count": 27,
   "metadata": {},
   "outputs": [
    {
     "data": {
      "text/plain": [
       "(array([293.,  12.,  18.,  19.,   9.,  16.,   5.,  16.,  13.,  14.,  28.,\n",
       "          6.,   5.,  20.,   8.,   6.,   6.,   0.,  10.,   2.]),\n",
       " array([ 650000., 1055000., 1460000., 1865000., 2270000., 2675000.,\n",
       "        3080000., 3485000., 3890000., 4295000., 4700000., 5105000.,\n",
       "        5510000., 5915000., 6320000., 6725000., 7130000., 7535000.,\n",
       "        7940000., 8345000., 8750000.]),\n",
       " <a list of 20 Patch objects>)"
      ]
     },
     "execution_count": 27,
     "metadata": {},
     "output_type": "execute_result"
    },
    {
     "data": {
      "image/png": "[encoded data removed]",
      "text/plain": [
       "<Figure size 432x288 with 1 Axes>"
      ]
     },
     "metadata": {},
     "output_type": "display_data"
    }
   ],
   "source": [
    "# Histogram for number of players for a salary range with bins set to 20\n",
    "# to get a little bit more detail\n",
    "plt.hist(data['Salary'], bins=20)"
   ]
  },
  {
   "cell_type": "code",
   "execution_count": 28,
   "metadata": {},
   "outputs": [
    {
     "data": {
      "text/plain": [
       "Text(0,0.5,'Salary')"
      ]
     },
     "execution_count": 28,
     "metadata": {},
     "output_type": "execute_result"
    },
    {
     "data": {
      "image/png": "[encoded data removed]",
      "text/plain": [
       "<Figure size 432x288 with 1 Axes>"
      ]
     },
     "metadata": {},
     "output_type": "display_data"
    }
   ],
   "source": [
    "# Scatter plot on salary and a players points per game\n",
    "plt.scatter(x=data.pointsPerGame, y=data.Salary, marker='.')\n",
    "plt.xlabel('PPG')\n",
    "plt.ylabel('Salary')"
   ]
  },
  {
   "cell_type": "code",
   "execution_count": 29,
   "metadata": {},
   "outputs": [
    {
     "data": {
      "text/plain": [
       "Text(0,0.5,'Salary')"
      ]
     },
     "execution_count": 29,
     "metadata": {},
     "output_type": "execute_result"
    },
    {
     "data": {
      "image/png": "[encoded data removed]",
      "text/plain": [
       "<Figure size 432x288 with 1 Axes>"
      ]
     },
     "metadata": {},
     "output_type": "display_data"
    }
   ],
   "source": [
    "# Scatter plot on salary and a players plus minus\n",
    "plt.scatter(x=data.plusMinus, y=data.Salary, marker='.')\n",
    "plt.xlabel('+/-')\n",
    "plt.ylabel('Salary')"
   ]
  },
  {
   "cell_type": "code",
   "execution_count": 30,
   "metadata": {},
   "outputs": [
    {
     "data": {
      "text/plain": [
       "['assists',\n",
       " 'goals',\n",
       " 'otGoals',\n",
       " 'playerDraftOverallPickNo',\n",
       " 'pointsPerGame',\n",
       " 'ppGoals',\n",
       " 'ppPoints',\n",
       " 'shootingPctg',\n",
       " 'shots',\n",
       " 'timeOnIcePerGame',\n",
       " 'age',\n",
       " 'goalsPerGame',\n",
       " 'assistsPerGame',\n",
       " 'Salary']"
      ]
     },
     "execution_count": 30,
     "metadata": {},
     "output_type": "execute_result"
    }
   ],
   "source": [
    "# A players +/- doesnt seem to have any relationship to salary\n",
    "data = data.drop(columns=['plusMinus'])\n",
    "list(data)"
   ]
  },
  {
   "cell_type": "code",
   "execution_count": 31,
   "metadata": {},
   "outputs": [
    {
     "data": {
      "text/plain": [
       "Text(0,0.5,'Salary')"
      ]
     },
     "execution_count": 31,
     "metadata": {},
     "output_type": "execute_result"
    },
    {
     "data": {
      "image/png": "[encoded data removed]",
      "text/plain": [
       "<Figure size 432x288 with 1 Axes>"
      ]
     },
     "metadata": {},
     "output_type": "display_data"
    }
   ],
   "source": [
    "# Scatter plot on salary and a players time on ice\n",
    "plt.scatter(x=data.timeOnIcePerGame, y=data.Salary, marker='.')\n",
    "plt.xlabel('TOI')\n",
    "plt.ylabel('Salary')"
   ]
  },
  {
   "cell_type": "code",
   "execution_count": 32,
   "metadata": {},
   "outputs": [
    {
     "data": {
      "text/plain": [
       "Text(0,0.5,'Salary')"
      ]
     },
     "execution_count": 32,
     "metadata": {},
     "output_type": "execute_result"
    },
    {
     "data": {
      "image/png": "[encoded data removed]",
      "text/plain": [
       "<Figure size 432x288 with 1 Axes>"
      ]
     },
     "metadata": {},
     "output_type": "display_data"
    }
   ],
   "source": [
    "# Scatter plot on salary and a players assists\n",
    "plt.scatter(x=data.assists, y=data.Salary, marker='.')\n",
    "plt.xlabel('Assists')\n",
    "plt.ylabel('Salary')"
   ]
  },
  {
   "cell_type": "code",
   "execution_count": 33,
   "metadata": {},
   "outputs": [
    {
     "data": {
      "text/plain": [
       "Text(0,0.5,'Salary')"
      ]
     },
     "execution_count": 33,
     "metadata": {},
     "output_type": "execute_result"
    },
    {
     "data": {
      "image/png": "[encoded data removed]",
      "text/plain": [
       "<Figure size 432x288 with 1 Axes>"
      ]
     },
     "metadata": {},
     "output_type": "display_data"
    }
   ],
   "source": [
    "# Scatter plot on salary and a players goals\n",
    "plt.scatter(x=data.goals, y=data.Salary, marker='.')\n",
    "plt.xlabel('Goals')\n",
    "plt.ylabel('Salary')"
   ]
  },
  {
   "cell_type": "code",
   "execution_count": 34,
   "metadata": {},
   "outputs": [
    {
     "data": {
      "text/plain": [
       "Text(0,0.5,'Salary')"
      ]
     },
     "execution_count": 34,
     "metadata": {},
     "output_type": "execute_result"
    },
    {
     "data": {
      "image/png": "[encoded data removed]",
      "text/plain": [
       "<Figure size 432x288 with 1 Axes>"
      ]
     },
     "metadata": {},
     "output_type": "display_data"
    }
   ],
   "source": [
    "# Scatter plot on salary and a players goals per game\n",
    "plt.scatter(x=data.goalsPerGame, y=data.Salary, marker='.')\n",
    "plt.xlabel('Goals/Game')\n",
    "plt.ylabel('Salary')"
   ]
  },
  {
   "cell_type": "code",
   "execution_count": 35,
   "metadata": {},
   "outputs": [
    {
     "data": {
      "text/plain": [
       "Text(0,0.5,'Salary')"
      ]
     },
     "execution_count": 35,
     "metadata": {},
     "output_type": "execute_result"
    },
    {
     "data": {
      "image/png": "[encoded data removed]",
      "text/plain": [
       "<Figure size 432x288 with 1 Axes>"
      ]
     },
     "metadata": {},
     "output_type": "display_data"
    }
   ],
   "source": [
    "# Scatter plot on salary and a players assists per game\n",
    "plt.scatter(x=data.assistsPerGame, y=data.Salary, marker='.')\n",
    "plt.xlabel('Assists/Game')\n",
    "plt.ylabel('Salary')"
   ]
  },
  {
   "cell_type": "code",
   "execution_count": 36,
   "metadata": {},
   "outputs": [
    {
     "data": {
      "text/plain": [
       "Text(0,0.5,'Salary')"
      ]
     },
     "execution_count": 36,
     "metadata": {},
     "output_type": "execute_result"
    },
    {
     "data": {
      "image/png": "[encoded data removed]",
      "text/plain": [
       "<Figure size 432x288 with 1 Axes>"
      ]
     },
     "metadata": {},
     "output_type": "display_data"
    }
   ],
   "source": [
    "# Scatter plot on salary and a players OT\n",
    "plt.scatter(x=data.otGoals, y=data.Salary, marker='.')\n",
    "plt.xlabel('OT Goals')\n",
    "plt.ylabel('Salary')"
   ]
  },
  {
   "cell_type": "code",
   "execution_count": 37,
   "metadata": {},
   "outputs": [
    {
     "data": {
      "text/plain": [
       "['assists',\n",
       " 'goals',\n",
       " 'playerDraftOverallPickNo',\n",
       " 'pointsPerGame',\n",
       " 'ppGoals',\n",
       " 'ppPoints',\n",
       " 'shootingPctg',\n",
       " 'shots',\n",
       " 'timeOnIcePerGame',\n",
       " 'age',\n",
       " 'goalsPerGame',\n",
       " 'assistsPerGame',\n",
       " 'Salary']"
      ]
     },
     "execution_count": 37,
     "metadata": {},
     "output_type": "execute_result"
    }
   ],
   "source": [
    "# All players are put into 5 categories here so otGoals doesnt help much\n",
    "data = data.drop(columns=['otGoals'])\n",
    "list(data)"
   ]
  },
  {
   "cell_type": "code",
   "execution_count": 38,
   "metadata": {},
   "outputs": [
    {
     "data": {
      "text/plain": [
       "Text(0,0.5,'Salary')"
      ]
     },
     "execution_count": 38,
     "metadata": {},
     "output_type": "execute_result"
    },
    {
     "data": {
      "image/png": "[encoded data removed]",
      "text/plain": [
       "<Figure size 432x288 with 1 Axes>"
      ]
     },
     "metadata": {},
     "output_type": "display_data"
    }
   ],
   "source": [
    "# Scatter plot on salary and a players draft number\n",
    "plt.scatter(x=data.playerDraftOverallPickNo, y=data.Salary, marker='.')\n",
    "plt.xlabel('Draft Number')\n",
    "plt.ylabel('Salary')"
   ]
  },
  {
   "cell_type": "code",
   "execution_count": 39,
   "metadata": {},
   "outputs": [
    {
     "data": {
      "text/plain": [
       "['assists',\n",
       " 'goals',\n",
       " 'pointsPerGame',\n",
       " 'ppGoals',\n",
       " 'ppPoints',\n",
       " 'shootingPctg',\n",
       " 'shots',\n",
       " 'timeOnIcePerGame',\n",
       " 'age',\n",
       " 'goalsPerGame',\n",
       " 'assistsPerGame',\n",
       " 'Salary']"
      ]
     },
     "execution_count": 39,
     "metadata": {},
     "output_type": "execute_result"
    }
   ],
   "source": [
    "# Draft number doesnt have much of a relationship with salary\n",
    "data = data.drop(columns=['playerDraftOverallPickNo'])\n",
    "list(data)"
   ]
  },
  {
   "cell_type": "code",
   "execution_count": 40,
   "metadata": {},
   "outputs": [
    {
     "data": {
      "text/plain": [
       "Text(0,0.5,'Salary')"
      ]
     },
     "execution_count": 40,
     "metadata": {},
     "output_type": "execute_result"
    },
    {
     "data": {
      "image/png": "[encoded data removed]",
      "text/plain": [
       "<Figure size 432x288 with 1 Axes>"
      ]
     },
     "metadata": {},
     "output_type": "display_data"
    }
   ],
   "source": [
    "# Scatter plot on salary and a PP points\n",
    "plt.scatter(x=data.ppPoints, y=data.Salary, marker='.')\n",
    "plt.xlabel('PP Points')\n",
    "plt.ylabel('Salary')"
   ]
  },
  {
   "cell_type": "code",
   "execution_count": 41,
   "metadata": {},
   "outputs": [
    {
     "data": {
      "text/plain": [
       "Text(0,0.5,'Salary')"
      ]
     },
     "execution_count": 41,
     "metadata": {},
     "output_type": "execute_result"
    },
    {
     "data": {
      "image/png": "[encoded data removed]",
      "text/plain": [
       "<Figure size 432x288 with 1 Axes>"
      ]
     },
     "metadata": {},
     "output_type": "display_data"
    }
   ],
   "source": [
    "# Scatter plot on salary and a PP goals\n",
    "plt.scatter(x=data.ppGoals, y=data.Salary, marker='.')\n",
    "plt.xlabel('PP Goals')\n",
    "plt.ylabel('Salary')"
   ]
  },
  {
   "cell_type": "code",
   "execution_count": 42,
   "metadata": {},
   "outputs": [
    {
     "data": {
      "text/plain": [
       "['assists',\n",
       " 'goals',\n",
       " 'pointsPerGame',\n",
       " 'ppPoints',\n",
       " 'shootingPctg',\n",
       " 'shots',\n",
       " 'timeOnIcePerGame',\n",
       " 'age',\n",
       " 'goalsPerGame',\n",
       " 'assistsPerGame',\n",
       " 'Salary']"
      ]
     },
     "execution_count": 42,
     "metadata": {},
     "output_type": "execute_result"
    }
   ],
   "source": [
    "data = data.drop(columns=['ppGoals'])\n",
    "list(data)"
   ]
  },
  {
   "cell_type": "code",
   "execution_count": 43,
   "metadata": {},
   "outputs": [
    {
     "data": {
      "text/plain": [
       "Text(0,0.5,'Salary')"
      ]
     },
     "execution_count": 43,
     "metadata": {},
     "output_type": "execute_result"
    },
    {
     "data": {
      "image/png": "[encoded data removed]",
      "text/plain": [
       "<Figure size 432x288 with 1 Axes>"
      ]
     },
     "metadata": {},
     "output_type": "display_data"
    }
   ],
   "source": [
    "# Scatter plot on salary and a players age\n",
    "plt.scatter(x=data.age, y=data.Salary, marker='.')\n",
    "plt.xlabel('Age')\n",
    "plt.ylabel('Salary')"
   ]
  },
  {
   "cell_type": "code",
   "execution_count": 44,
   "metadata": {},
   "outputs": [
    {
     "data": {
      "text/plain": [
       "['assists',\n",
       " 'goals',\n",
       " 'pointsPerGame',\n",
       " 'ppPoints',\n",
       " 'shootingPctg',\n",
       " 'shots',\n",
       " 'timeOnIcePerGame',\n",
       " 'goalsPerGame',\n",
       " 'assistsPerGame',\n",
       " 'Salary']"
      ]
     },
     "execution_count": 44,
     "metadata": {},
     "output_type": "execute_result"
    }
   ],
   "source": [
    "data = data.drop(columns=['age'])\n",
    "list(data)"
   ]
  },
  {
   "cell_type": "code",
   "execution_count": 45,
   "metadata": {},
   "outputs": [
    {
     "data": {
      "text/plain": [
       "Text(0,0.5,'Salary')"
      ]
     },
     "execution_count": 45,
     "metadata": {},
     "output_type": "execute_result"
    },
    {
     "data": {
      "image/png": "[encoded data removed]",
      "text/plain": [
       "<Figure size 432x288 with 1 Axes>"
      ]
     },
     "metadata": {},
     "output_type": "display_data"
    }
   ],
   "source": [
    "# Scatter plot on salary and shooting %\n",
    "plt.scatter(x=data.shootingPctg, y=data.Salary, marker='.')\n",
    "plt.xlabel('Shooting %')\n",
    "plt.ylabel('Salary')"
   ]
  },
  {
   "cell_type": "code",
   "execution_count": 46,
   "metadata": {},
   "outputs": [
    {
     "data": {
      "text/plain": [
       "['assists',\n",
       " 'goals',\n",
       " 'pointsPerGame',\n",
       " 'ppPoints',\n",
       " 'shots',\n",
       " 'timeOnIcePerGame',\n",
       " 'goalsPerGame',\n",
       " 'assistsPerGame',\n",
       " 'Salary']"
      ]
     },
     "execution_count": 46,
     "metadata": {},
     "output_type": "execute_result"
    }
   ],
   "source": [
    "data = data.drop(columns=['shootingPctg'])\n",
    "list(data)"
   ]
  },
  {
   "cell_type": "code",
   "execution_count": 47,
   "metadata": {},
   "outputs": [
    {
     "data": {
      "text/plain": [
       "Text(0,0.5,'Salary')"
      ]
     },
     "execution_count": 47,
     "metadata": {},
     "output_type": "execute_result"
    },
    {
     "data": {
      "image/png": "[encoded data removed]",
      "text/plain": [
       "<Figure size 432x288 with 1 Axes>"
      ]
     },
     "metadata": {},
     "output_type": "display_data"
    }
   ],
   "source": [
    "# Scatter plot on salary and shots\n",
    "plt.scatter(x=data.shots, y=data.Salary, marker='.')\n",
    "plt.xlabel('Shots')\n",
    "plt.ylabel('Salary')"
   ]
  },
  {
   "cell_type": "code",
   "execution_count": 48,
   "metadata": {},
   "outputs": [],
   "source": [
    "data.reset_index(drop=True) \n",
    "X = data.drop(columns=['Salary'])\n",
    "y = data['Salary']\n",
    "X = preprocessing.scale(X)"
   ]
  },
  {
   "cell_type": "code",
   "execution_count": 49,
   "metadata": {},
   "outputs": [],
   "source": [
    "# Splitting our dataframe into our taining and test sets\n",
    "X_train, X_test, y_train, y_test = cross_validation.train_test_split(X, y, test_size=0.2)"
   ]
  },
  {
   "cell_type": "code",
   "execution_count": 50,
   "metadata": {},
   "outputs": [
    {
     "name": "stdout",
     "output_type": "stream",
     "text": [
      "(404, 8)\n",
      "(102, 8)\n",
      "(404,)\n",
      "(102,)\n"
     ]
    }
   ],
   "source": [
    "# Checking data to make sure it split right\n",
    "print(X_train.shape)\n",
    "print(X_test.shape)\n",
    "\n",
    "print(y_train.shape)\n",
    "print(y_test.shape)"
   ]
  },
  {
   "cell_type": "code",
   "execution_count": 51,
   "metadata": {},
   "outputs": [],
   "source": [
    "# Saving data to csv\n",
    "data.to_csv('NHL_Data.csv', encoding='utf-8')"
   ]
  },
  {
   "cell_type": "code",
   "execution_count": 52,
   "metadata": {},
   "outputs": [
    {
     "name": "stdout",
     "output_type": "stream",
     "text": [
      "0.14705882352941177\n"
     ]
    },
    {
     "data": {
      "text/plain": [
       "<matplotlib.legend.Legend at 0x2434e6a4630>"
      ]
     },
     "execution_count": 52,
     "metadata": {},
     "output_type": "execute_result"
    },
    {
     "data": {
      "image/png": "[encoded data removed]",
      "text/plain": [
       "<Figure size 432x288 with 1 Axes>"
      ]
     },
     "metadata": {},
     "output_type": "display_data"
    }
   ],
   "source": [
    "rf = RandomForestClassifier(n_estimators=100,max_features=None)\n",
    "\n",
    "rf.fit(X_train, y_train)\n",
    "\n",
    "pred = rf.predict(X_test)\n",
    "\n",
    "print(rf.score(X_test, y_test))\n",
    "\n",
    "\n",
    "\n",
    "plt.plot(pred[:20])\n",
    "plt.plot(y_test.values[:20])\n",
    "plt.xticks([])\n",
    "plt.legend(['pred', 'test val'])"
   ]
  },
  {
   "cell_type": "code",
   "execution_count": 53,
   "metadata": {},
   "outputs": [
    {
     "data": {
      "text/plain": [
       "0.44330574383168814"
      ]
     },
     "execution_count": 53,
     "metadata": {},
     "output_type": "execute_result"
    }
   ],
   "source": [
    "lr = LinearRegression()\n",
    "lr.fit(X_train, y_train)\n",
    "pred = lr.predict(X_test)\n",
    "\n",
    "lr.score(X_test, y_test)"
   ]
  },
  {
   "cell_type": "code",
   "execution_count": 54,
   "metadata": {},
   "outputs": [
    {
     "data": {
      "text/html": [
       "<div>\n",
       "<style scoped>\n",
       "    .dataframe tbody tr th:only-of-type {\n",
       "        vertical-align: middle;\n",
       "    }\n",
       "\n",
       "    .dataframe tbody tr th {\n",
       "        vertical-align: top;\n",
       "    }\n",
       "\n",
       "    .dataframe thead th {\n",
       "        text-align: right;\n",
       "    }\n",
       "</style>\n",
       "<table border=\"1\" class=\"dataframe\">\n",
       "  <thead>\n",
       "    <tr style=\"text-align: right;\">\n",
       "      <th></th>\n",
       "      <th>playerId</th>\n",
       "      <th>Predicted</th>\n",
       "      <th>Actual</th>\n",
       "    </tr>\n",
       "  </thead>\n",
       "  <tbody>\n",
       "    <tr>\n",
       "      <th>0</th>\n",
       "      <td>8478365</td>\n",
       "      <td>1.188854e+06</td>\n",
       "      <td>730000.0</td>\n",
       "    </tr>\n",
       "    <tr>\n",
       "      <th>1</th>\n",
       "      <td>8476624</td>\n",
       "      <td>7.554551e+05</td>\n",
       "      <td>650000.0</td>\n",
       "    </tr>\n",
       "    <tr>\n",
       "      <th>2</th>\n",
       "      <td>8475793</td>\n",
       "      <td>4.307059e+06</td>\n",
       "      <td>8000000.0</td>\n",
       "    </tr>\n",
       "    <tr>\n",
       "      <th>3</th>\n",
       "      <td>8478106</td>\n",
       "      <td>1.851600e+06</td>\n",
       "      <td>925000.0</td>\n",
       "    </tr>\n",
       "    <tr>\n",
       "      <th>4</th>\n",
       "      <td>8478542</td>\n",
       "      <td>2.451499e+06</td>\n",
       "      <td>650000.0</td>\n",
       "    </tr>\n",
       "    <tr>\n",
       "      <th>5</th>\n",
       "      <td>8480153</td>\n",
       "      <td>1.844667e+06</td>\n",
       "      <td>742500.0</td>\n",
       "    </tr>\n",
       "    <tr>\n",
       "      <th>6</th>\n",
       "      <td>8477949</td>\n",
       "      <td>3.219429e+06</td>\n",
       "      <td>925000.0</td>\n",
       "    </tr>\n",
       "    <tr>\n",
       "      <th>7</th>\n",
       "      <td>8477973</td>\n",
       "      <td>7.053022e+05</td>\n",
       "      <td>925000.0</td>\n",
       "    </tr>\n",
       "    <tr>\n",
       "      <th>8</th>\n",
       "      <td>8475163</td>\n",
       "      <td>1.000390e+06</td>\n",
       "      <td>660000.0</td>\n",
       "    </tr>\n",
       "    <tr>\n",
       "      <th>9</th>\n",
       "      <td>8474053</td>\n",
       "      <td>4.275328e+06</td>\n",
       "      <td>6000000.0</td>\n",
       "    </tr>\n",
       "    <tr>\n",
       "      <th>10</th>\n",
       "      <td>8475328</td>\n",
       "      <td>1.178096e+06</td>\n",
       "      <td>725000.0</td>\n",
       "    </tr>\n",
       "    <tr>\n",
       "      <th>11</th>\n",
       "      <td>8477953</td>\n",
       "      <td>1.037459e+06</td>\n",
       "      <td>832500.0</td>\n",
       "    </tr>\n",
       "    <tr>\n",
       "      <th>12</th>\n",
       "      <td>8477591</td>\n",
       "      <td>9.906172e+05</td>\n",
       "      <td>775000.0</td>\n",
       "    </tr>\n",
       "    <tr>\n",
       "      <th>13</th>\n",
       "      <td>8474230</td>\n",
       "      <td>3.880359e+05</td>\n",
       "      <td>800000.0</td>\n",
       "    </tr>\n",
       "    <tr>\n",
       "      <th>14</th>\n",
       "      <td>8477935</td>\n",
       "      <td>2.509075e+06</td>\n",
       "      <td>1950000.0</td>\n",
       "    </tr>\n",
       "    <tr>\n",
       "      <th>15</th>\n",
       "      <td>8477500</td>\n",
       "      <td>4.423758e+06</td>\n",
       "      <td>6500000.0</td>\n",
       "    </tr>\n",
       "    <tr>\n",
       "      <th>16</th>\n",
       "      <td>8480029</td>\n",
       "      <td>-5.770988e+05</td>\n",
       "      <td>742500.0</td>\n",
       "    </tr>\n",
       "    <tr>\n",
       "      <th>17</th>\n",
       "      <td>8475231</td>\n",
       "      <td>1.806147e+06</td>\n",
       "      <td>3000000.0</td>\n",
       "    </tr>\n",
       "    <tr>\n",
       "      <th>18</th>\n",
       "      <td>8476913</td>\n",
       "      <td>3.441349e+06</td>\n",
       "      <td>925000.0</td>\n",
       "    </tr>\n",
       "    <tr>\n",
       "      <th>19</th>\n",
       "      <td>8475268</td>\n",
       "      <td>9.604942e+05</td>\n",
       "      <td>750000.0</td>\n",
       "    </tr>\n",
       "    <tr>\n",
       "      <th>20</th>\n",
       "      <td>8478431</td>\n",
       "      <td>3.598125e+05</td>\n",
       "      <td>925000.0</td>\n",
       "    </tr>\n",
       "    <tr>\n",
       "      <th>21</th>\n",
       "      <td>8477962</td>\n",
       "      <td>2.249256e+05</td>\n",
       "      <td>892500.0</td>\n",
       "    </tr>\n",
       "    <tr>\n",
       "      <th>22</th>\n",
       "      <td>8476436</td>\n",
       "      <td>1.815880e+06</td>\n",
       "      <td>1000000.0</td>\n",
       "    </tr>\n",
       "    <tr>\n",
       "      <th>23</th>\n",
       "      <td>8476415</td>\n",
       "      <td>1.105503e+06</td>\n",
       "      <td>700000.0</td>\n",
       "    </tr>\n",
       "    <tr>\n",
       "      <th>24</th>\n",
       "      <td>8476872</td>\n",
       "      <td>1.221484e+06</td>\n",
       "      <td>875000.0</td>\n",
       "    </tr>\n",
       "    <tr>\n",
       "      <th>25</th>\n",
       "      <td>8475913</td>\n",
       "      <td>3.939087e+06</td>\n",
       "      <td>4500000.0</td>\n",
       "    </tr>\n",
       "    <tr>\n",
       "      <th>26</th>\n",
       "      <td>8476922</td>\n",
       "      <td>8.371395e+05</td>\n",
       "      <td>767500.0</td>\n",
       "    </tr>\n",
       "    <tr>\n",
       "      <th>27</th>\n",
       "      <td>8474062</td>\n",
       "      <td>2.098353e+06</td>\n",
       "      <td>900000.0</td>\n",
       "    </tr>\n",
       "    <tr>\n",
       "      <th>28</th>\n",
       "      <td>8476455</td>\n",
       "      <td>4.615356e+06</td>\n",
       "      <td>6000000.0</td>\n",
       "    </tr>\n",
       "    <tr>\n",
       "      <th>29</th>\n",
       "      <td>8479974</td>\n",
       "      <td>2.457014e+06</td>\n",
       "      <td>925000.0</td>\n",
       "    </tr>\n",
       "  </tbody>\n",
       "</table>\n",
       "</div>"
      ],
      "text/plain": [
       "    playerId     Predicted     Actual\n",
       "0    8478365  1.188854e+06   730000.0\n",
       "1    8476624  7.554551e+05   650000.0\n",
       "2    8475793  4.307059e+06  8000000.0\n",
       "3    8478106  1.851600e+06   925000.0\n",
       "4    8478542  2.451499e+06   650000.0\n",
       "5    8480153  1.844667e+06   742500.0\n",
       "6    8477949  3.219429e+06   925000.0\n",
       "7    8477973  7.053022e+05   925000.0\n",
       "8    8475163  1.000390e+06   660000.0\n",
       "9    8474053  4.275328e+06  6000000.0\n",
       "10   8475328  1.178096e+06   725000.0\n",
       "11   8477953  1.037459e+06   832500.0\n",
       "12   8477591  9.906172e+05   775000.0\n",
       "13   8474230  3.880359e+05   800000.0\n",
       "14   8477935  2.509075e+06  1950000.0\n",
       "15   8477500  4.423758e+06  6500000.0\n",
       "16   8480029 -5.770988e+05   742500.0\n",
       "17   8475231  1.806147e+06  3000000.0\n",
       "18   8476913  3.441349e+06   925000.0\n",
       "19   8475268  9.604942e+05   750000.0\n",
       "20   8478431  3.598125e+05   925000.0\n",
       "21   8477962  2.249256e+05   892500.0\n",
       "22   8476436  1.815880e+06  1000000.0\n",
       "23   8476415  1.105503e+06   700000.0\n",
       "24   8476872  1.221484e+06   875000.0\n",
       "25   8475913  3.939087e+06  4500000.0\n",
       "26   8476922  8.371395e+05   767500.0\n",
       "27   8474062  2.098353e+06   900000.0\n",
       "28   8476455  4.615356e+06  6000000.0\n",
       "29   8479974  2.457014e+06   925000.0"
      ]
     },
     "execution_count": 54,
     "metadata": {},
     "output_type": "execute_result"
    }
   ],
   "source": [
    "res = pd.DataFrame({'Predicted':pred,'Actual':y_test})\n",
    "res = res.reset_index()\n",
    "res.head(30)"
   ]
  },
  {
   "cell_type": "code",
   "execution_count": 55,
   "metadata": {},
   "outputs": [
    {
     "data": {
      "text/plain": [
       "<matplotlib.legend.Legend at 0x2434f6de5f8>"
      ]
     },
     "execution_count": 55,
     "metadata": {},
     "output_type": "execute_result"
    },
    {
     "data": {
      "image/png": "[encoded data removed]",
      "text/plain": [
       "<Figure size 432x288 with 1 Axes>"
      ]
     },
     "metadata": {},
     "output_type": "display_data"
    }
   ],
   "source": [
    "plt.plot(pred[:20])\n",
    "plt.plot(y_test.values[:20])\n",
    "plt.xticks([])\n",
    "plt.legend(['pred', 'test val'])"
   ]
  },
  {
   "cell_type": "code",
   "execution_count": 56,
   "metadata": {},
   "outputs": [
    {
     "data": {
      "text/plain": [
       "0.16666666666666666"
      ]
     },
     "execution_count": 56,
     "metadata": {},
     "output_type": "execute_result"
    }
   ],
   "source": [
    "logr = LogisticRegression()\n",
    "logr.fit(X_train, y_train)\n",
    "logr.score(X_test, y_test)"
   ]
  }
 ],
 "metadata": {
  "kernelspec": {
   "display_name": "Python 3",
   "language": "python",
   "name": "python3"
  },
  "language_info": {
   "codemirror_mode": {
    "name": "ipython",
    "version": 3
   },
   "file_extension": ".py",
   "mimetype": "text/x-python",
   "name": "python",
   "nbconvert_exporter": "python",
   "pygments_lexer": "ipython3",
   "version": "3.6.5"
  }
 },
 "nbformat": 4,
 "nbformat_minor": 2
}
