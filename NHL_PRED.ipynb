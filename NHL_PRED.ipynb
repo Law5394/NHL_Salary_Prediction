{
 "cells": [
  {
   "cell_type": "code",
   "execution_count": null,
   "metadata": {},
   "outputs": [],
   "source": [
    "# importing modules\n",
    "import requests\n",
    "import pandas as pd\n",
    "import numpy as np\n",
    "import matplotlib.pyplot as plt\n",
    "\n",
    "from sklearn.model_selection import train_test_split\n",
    "from sklearn import preprocessing, cross_validation\n",
    "from sklearn import linear_model\n",
    "from sklearn.ensemble import RandomForestClassifier\n",
    "from sklearn.linear_model import LogisticRegression\n",
    "from sklearn.linear_model import LinearRegression\n",
    "from scipy.stats import iqr"
   ]
  },
  {
   "cell_type": "code",
   "execution_count": null,
   "metadata": {},
   "outputs": [],
   "source": [
    "# Getting data\n",
    "skaters_url = 'http://www.nhl.com/stats/rest/skaters?isAggregate=false&reportType=basic&isGame=false&reportName=skatersummary&sort=[{%22property%22:%22points%22,%22direction%22:%22DESC%22},{%22property%22:%22goals%22,%22direction%22:%22DESC%22},{%22property%22:%22assists%22,%22direction%22:%22DESC%22}]&cayenneExp=gameTypeId=2%20and%20seasonId%3E=20172018%20and%20seasonId%3C=20172018'\n",
    "\n",
    "response = requests.get(skaters_url)\n",
    "response.raise_for_status()\n",
    "playerData = pd.DataFrame(response.json()['data'])\n",
    "salariesData = pd.read_csv('Salaries.csv')"
   ]
  },
  {
   "cell_type": "code",
   "execution_count": null,
   "metadata": {},
   "outputs": [],
   "source": [
    "# Checking out data features\n",
    "list(playerData)"
   ]
  },
  {
   "cell_type": "code",
   "execution_count": null,
   "metadata": {},
   "outputs": [],
   "source": [
    "# Dropping goalies and defenceman \n",
    "playerData = playerData[playerData.playerPositionCode != 'D']\n",
    "playerData = playerData[playerData.playerPositionCode != 'G']"
   ]
  },
  {
   "cell_type": "code",
   "execution_count": null,
   "metadata": {},
   "outputs": [],
   "source": [
    "# Dropping features that shouldn't affect salary and checking that they were dropped\n",
    "playerData = playerData.drop(columns=['playerBirthCity', 'playerBirthCountry', 'playerBirthStateProvince',\n",
    "                                      'playerInHockeyHof', 'playerFirstName', 'playerLastName', 'playerNationality', 'playerDraftYear',\n",
    "                                      'playerDraftRoundNo', 'playerTeamsPlayedFor', 'seasonId', 'playerPositionCode', 'playerShootsCatches',\n",
    "                                      'playerName', 'faceoffWinPctg', 'gameWinningGoals', 'points', 'penaltyMinutes', 'shiftsPerGame',\n",
    "                                      'shPoints', 'shGoals', 'playerWeight', 'playerHeight'])\n",
    "list(playerData)\n"
   ]
  },
  {
   "cell_type": "code",
   "execution_count": null,
   "metadata": {},
   "outputs": [],
   "source": [
    "# Removing inactive players and checking to make sure all the data is active players\n",
    "playerData = playerData.query('playerIsActive != 0')\n",
    "playerData = playerData.drop(columns=['playerIsActive'])"
   ]
  },
  {
   "cell_type": "code",
   "execution_count": null,
   "metadata": {},
   "outputs": [],
   "source": [
    "# Setting the index of the dataframe to the players unique nhl player id\n",
    "playerData = playerData.set_index('playerId')\n",
    "playerData.head()"
   ]
  },
  {
   "cell_type": "code",
   "execution_count": null,
   "metadata": {},
   "outputs": [],
   "source": [
    "# Checking for any missing values\n",
    "playerData.isna().sum()"
   ]
  },
  {
   "cell_type": "code",
   "execution_count": null,
   "metadata": {},
   "outputs": [],
   "source": [
    "# We can see that 69 forwards went undrafted so we will check to see\n",
    "# the max draft number\n",
    "maxDraftNum = playerData['playerDraftOverallPickNo'].max()\n",
    "print(maxDraftNum)"
   ]
  },
  {
   "cell_type": "code",
   "execution_count": null,
   "metadata": {},
   "outputs": [],
   "source": [
    "# Filling undrafted players draft number with max draft number +1 \n",
    "playerData['playerDraftOverallPickNo'] = playerData['playerDraftOverallPickNo'].fillna(maxDraftNum + 1)"
   ]
  },
  {
   "cell_type": "code",
   "execution_count": null,
   "metadata": {},
   "outputs": [],
   "source": [
    "# Checking to see if the missing values were filled in\n",
    "playerData.isna().sum()"
   ]
  },
  {
   "cell_type": "code",
   "execution_count": null,
   "metadata": {},
   "outputs": [],
   "source": [
    "# Checking format and data type of playerBirtDate\n",
    "print(playerData.playerBirthDate.dtype)\n",
    "print(playerData[:1].playerBirthDate)"
   ]
  },
  {
   "cell_type": "code",
   "execution_count": null,
   "metadata": {},
   "outputs": [],
   "source": [
    "# Adding age column and roughly calculating age based off birth year *note player data is from 2017-2018 season\n",
    "playerData['playerBirthDate'] = playerData['playerBirthDate'].apply(lambda x: x[:4])\n",
    "playerData['age'] = 2017 - playerData['playerBirthDate'].astype(int)\n",
    "playerData = playerData.drop(columns=['playerBirthDate'])\n",
    "playerData.head()"
   ]
  },
  {
   "cell_type": "code",
   "execution_count": null,
   "metadata": {},
   "outputs": [],
   "source": [
    "# Dropping players with less than 10 games played\n",
    "playerData = playerData[playerData['gamesPlayed'] > 10]\n",
    "playerData['gamesPlayed'].min()"
   ]
  },
  {
   "cell_type": "code",
   "execution_count": null,
   "metadata": {},
   "outputs": [],
   "source": [
    "# Calculating goals per game\n",
    "playerData['goalsPerGame'] = playerData['goals']/playerData['gamesPlayed']\n",
    "playerData['assistsPerGame'] = playerData['assists']/playerData['gamesPlayed']\n",
    "\n",
    "\n",
    "playerData = playerData.drop(columns=['gamesPlayed'])"
   ]
  },
  {
   "cell_type": "code",
   "execution_count": null,
   "metadata": {},
   "outputs": [],
   "source": [
    "# Setting the index for salary dataframe to the players unique nhl player id\n",
    "salariesData = salariesData.set_index('NHLid')\n",
    "salariesData.head()"
   ]
  },
  {
   "cell_type": "code",
   "execution_count": null,
   "metadata": {},
   "outputs": [],
   "source": [
    "# Checking for missing salaries\n",
    "salariesData.isna().sum()"
   ]
  },
  {
   "cell_type": "code",
   "execution_count": null,
   "metadata": {},
   "outputs": [],
   "source": [
    "# Dropping missing salaries also getting basic stats on the salaries\n",
    "# Note that Q3 is at 4,000,000\n",
    "salariesData.dropna(inplace=True)\n",
    "print(salariesData.isna().sum())\n",
    "print(salariesData.describe())"
   ]
  },
  {
   "cell_type": "code",
   "execution_count": null,
   "metadata": {},
   "outputs": [],
   "source": [
    "# Calculating high outliers and removing them from data prints the outlier fence just for my info\n",
    "q3 = 4000000\n",
    "iqr=iqr(salariesData)\n",
    "fence = (q3 + (1.5*iqr))\n",
    "print(fence)\n",
    "salariesData = salariesData[salariesData.Salary < fence]\n"
   ]
  },
  {
   "cell_type": "code",
   "execution_count": null,
   "metadata": {},
   "outputs": [],
   "source": [
    "# Checking to see if outliers are dropped\n",
    "salariesData.max()"
   ]
  },
  {
   "cell_type": "code",
   "execution_count": null,
   "metadata": {},
   "outputs": [],
   "source": [
    "# Rounding salaries to nearest 100,000\n",
    "salariesData['Salary'] = salariesData.Salary.round(decimals = -5)\n",
    "salariesData.head(20)"
   ]
  },
  {
   "cell_type": "code",
   "execution_count": null,
   "metadata": {},
   "outputs": [],
   "source": [
    "# Joining the two data sets and checking to see if they joined properly\n",
    "data = playerData.join(salariesData)\n",
    "list(data)"
   ]
  },
  {
   "cell_type": "code",
   "execution_count": null,
   "metadata": {},
   "outputs": [],
   "source": [
    "# Checking a known players salary to make sure everything worked by indexing to their player id\n",
    "data.loc[[8474625]]"
   ]
  },
  {
   "cell_type": "code",
   "execution_count": null,
   "metadata": {},
   "outputs": [],
   "source": [
    "# Checking how many players have missing salaries\n",
    "data['Salary'].isna().sum()"
   ]
  },
  {
   "cell_type": "code",
   "execution_count": null,
   "metadata": {},
   "outputs": [],
   "source": [
    "# Dropping rows with missing salary data and checking to make sure we have no more missing values\n",
    "data = data.dropna(subset=['Salary'])\n",
    "data.isna().sum()"
   ]
  },
  {
   "cell_type": "code",
   "execution_count": null,
   "metadata": {},
   "outputs": [],
   "source": [
    "# Checking data types\n",
    "data.dtypes"
   ]
  },
  {
   "cell_type": "code",
   "execution_count": null,
   "metadata": {},
   "outputs": [],
   "source": [
    "# Basic statistics on salary\n",
    "data.Salary.describe()"
   ]
  },
  {
   "cell_type": "code",
   "execution_count": null,
   "metadata": {},
   "outputs": [],
   "source": [
    "# Getting info on highest paid player in our dataset\n",
    "data.loc[data['Salary'].idxmax()]"
   ]
  },
  {
   "cell_type": "code",
   "execution_count": null,
   "metadata": {},
   "outputs": [],
   "source": [
    "# Histogram for number of players for a salary range with bins set to 20\n",
    "# to get a little bit more detail\n",
    "plt.hist(data['Salary'], bins=20)"
   ]
  },
  {
   "cell_type": "code",
   "execution_count": null,
   "metadata": {},
   "outputs": [],
   "source": [
    "# Scatter plot on salary and a players points per game\n",
    "plt.scatter(x=data.pointsPerGame, y=data.Salary, marker='.')\n",
    "plt.xlabel('PPG')\n",
    "plt.ylabel('Salary')"
   ]
  },
  {
   "cell_type": "code",
   "execution_count": null,
   "metadata": {},
   "outputs": [],
   "source": [
    "# Scatter plot on salary and a players plus minus\n",
    "plt.scatter(x=data.plusMinus, y=data.Salary, marker='.')\n",
    "plt.xlabel('+/-')\n",
    "plt.ylabel('Salary')"
   ]
  },
  {
   "cell_type": "code",
   "execution_count": null,
   "metadata": {},
   "outputs": [],
   "source": [
    "# A players +/- doesnt seem to have any relationship to salary\n",
    "data = data.drop(columns=['plusMinus'])\n",
    "list(data)"
   ]
  },
  {
   "cell_type": "code",
   "execution_count": null,
   "metadata": {},
   "outputs": [],
   "source": [
    "# Scatter plot on salary and a players time on ice\n",
    "plt.scatter(x=data.timeOnIcePerGame, y=data.Salary, marker='.')\n",
    "plt.xlabel('TOI')\n",
    "plt.ylabel('Salary')"
   ]
  },
  {
   "cell_type": "code",
   "execution_count": null,
   "metadata": {},
   "outputs": [],
   "source": [
    "# Scatter plot on salary and a players assists\n",
    "plt.scatter(x=data.assists, y=data.Salary, marker='.')\n",
    "plt.xlabel('Assists')\n",
    "plt.ylabel('Salary')"
   ]
  },
  {
   "cell_type": "code",
   "execution_count": null,
   "metadata": {},
   "outputs": [],
   "source": [
    "# Scatter plot on salary and a players goals\n",
    "plt.scatter(x=data.goals, y=data.Salary, marker='.')\n",
    "plt.xlabel('Goals')\n",
    "plt.ylabel('Salary')"
   ]
  },
  {
   "cell_type": "code",
   "execution_count": null,
   "metadata": {},
   "outputs": [],
   "source": [
    "# Scatter plot on salary and a players goals per game\n",
    "plt.scatter(x=data.goalsPerGame, y=data.Salary, marker='.')\n",
    "plt.xlabel('Goals/Game')\n",
    "plt.ylabel('Salary')"
   ]
  },
  {
   "cell_type": "code",
   "execution_count": null,
   "metadata": {},
   "outputs": [],
   "source": [
    "# Scatter plot on salary and a players assists per game\n",
    "plt.scatter(x=data.assistsPerGame, y=data.Salary, marker='.')\n",
    "plt.xlabel('Assists/Game')\n",
    "plt.ylabel('Salary')"
   ]
  },
  {
   "cell_type": "code",
   "execution_count": null,
   "metadata": {},
   "outputs": [],
   "source": [
    "# Scatter plot on salary and a players OT\n",
    "plt.scatter(x=data.otGoals, y=data.Salary, marker='.')\n",
    "plt.xlabel('OT Goals')\n",
    "plt.ylabel('Salary')"
   ]
  },
  {
   "cell_type": "code",
   "execution_count": null,
   "metadata": {},
   "outputs": [],
   "source": [
    "# All players are put into 5 categories here so otGoals doesnt help much\n",
    "data = data.drop(columns=['otGoals'])\n",
    "list(data)"
   ]
  },
  {
   "cell_type": "code",
   "execution_count": null,
   "metadata": {},
   "outputs": [],
   "source": [
    "# Scatter plot on salary and a players draft number\n",
    "plt.scatter(x=data.playerDraftOverallPickNo, y=data.Salary, marker='.')\n",
    "plt.xlabel('Draft Number')\n",
    "plt.ylabel('Salary')"
   ]
  },
  {
   "cell_type": "code",
   "execution_count": null,
   "metadata": {},
   "outputs": [],
   "source": [
    "# Draft number doesnt have much of a relationship with salary\n",
    "data = data.drop(columns=['playerDraftOverallPickNo'])\n",
    "list(data)"
   ]
  },
  {
   "cell_type": "code",
   "execution_count": null,
   "metadata": {},
   "outputs": [],
   "source": [
    "# Scatter plot on salary and a PP points\n",
    "plt.scatter(x=data.ppPoints, y=data.Salary, marker='.')\n",
    "plt.xlabel('PP Points')\n",
    "plt.ylabel('Salary')"
   ]
  },
  {
   "cell_type": "code",
   "execution_count": null,
   "metadata": {},
   "outputs": [],
   "source": [
    "# Scatter plot on salary and a PP goals\n",
    "plt.scatter(x=data.ppGoals, y=data.Salary, marker='.')\n",
    "plt.xlabel('PP Goals')\n",
    "plt.ylabel('Salary')"
   ]
  },
  {
   "cell_type": "code",
   "execution_count": null,
   "metadata": {},
   "outputs": [],
   "source": [
    "data = data.drop(columns=['ppGoals'])\n",
    "list(data)"
   ]
  },
  {
   "cell_type": "code",
   "execution_count": null,
   "metadata": {},
   "outputs": [],
   "source": [
    "# Scatter plot on salary and a players age\n",
    "plt.scatter(x=data.age, y=data.Salary, marker='.')\n",
    "plt.xlabel('Age')\n",
    "plt.ylabel('Salary')"
   ]
  },
  {
   "cell_type": "code",
   "execution_count": null,
   "metadata": {},
   "outputs": [],
   "source": [
    "# Scatter plot on salary and shooting %\n",
    "plt.scatter(x=data.shootingPctg, y=data.Salary, marker='.')\n",
    "plt.xlabel('Shooting %')\n",
    "plt.ylabel('Salary')"
   ]
  },
  {
   "cell_type": "code",
   "execution_count": null,
   "metadata": {},
   "outputs": [],
   "source": [
    "data = data.drop(columns=['shootingPctg'])\n",
    "list(data)"
   ]
  },
  {
   "cell_type": "code",
   "execution_count": null,
   "metadata": {},
   "outputs": [],
   "source": [
    "# Scatter plot on salary and shots\n",
    "plt.scatter(x=data.shots, y=data.Salary, marker='.')\n",
    "plt.xlabel('Shots')\n",
    "plt.ylabel('Salary')"
   ]
  },
  {
   "cell_type": "code",
   "execution_count": null,
   "metadata": {},
   "outputs": [],
   "source": [
    "data.reset_index(drop=True) \n",
    "X = data.drop(columns=['Salary'])\n",
    "y = data['Salary']\n",
    "X = preprocessing.scale(X)"
   ]
  },
  {
   "cell_type": "code",
   "execution_count": null,
   "metadata": {},
   "outputs": [],
   "source": [
    "# Splitting our dataframe into our taining and test sets\n",
    "X_train, X_test, y_train, y_test = cross_validation.train_test_split(X, y, test_size=0.2)"
   ]
  },
  {
   "cell_type": "code",
   "execution_count": null,
   "metadata": {},
   "outputs": [],
   "source": [
    "# Checking data to make sure it split right\n",
    "print(X_train.shape)\n",
    "print(X_test.shape)\n",
    "\n",
    "print(y_train.shape)\n",
    "print(y_test.shape)"
   ]
  },
  {
   "cell_type": "code",
   "execution_count": null,
   "metadata": {},
   "outputs": [],
   "source": [
    "# Saving data to csv\n",
    "data.to_csv('NHL_Data.csv', encoding='utf-8')"
   ]
  },
  {
   "cell_type": "code",
   "execution_count": null,
   "metadata": {},
   "outputs": [],
   "source": [
    "rf = RandomForestClassifier(n_estimators=100,max_features=None)\n",
    "\n",
    "rf.fit(X_train, y_train)\n",
    "\n",
    "pred = rf.predict(X_test)\n",
    "\n",
    "print(rf.score(X_test, y_test))\n",
    "\n",
    "\n",
    "\n",
    "plt.plot(pred[:20])\n",
    "plt.plot(y_test.values[:20])\n",
    "plt.xticks([])\n",
    "plt.legend(['pred', 'test val'])"
   ]
  },
  {
   "cell_type": "code",
   "execution_count": null,
   "metadata": {},
   "outputs": [],
   "source": [
    "lr = LinearRegression()\n",
    "lr.fit(X_train, y_train)\n",
    "pred = lr.predict(X_test)\n",
    "\n",
    "lr.score(X_test, y_test)"
   ]
  },
  {
   "cell_type": "code",
   "execution_count": null,
   "metadata": {},
   "outputs": [],
   "source": [
    "res = pd.DataFrame({'Predicted':pred,'Actual':y_test})\n",
    "res = res.reset_index()\n",
    "res.head(30)"
   ]
  },
  {
   "cell_type": "code",
   "execution_count": null,
   "metadata": {},
   "outputs": [],
   "source": [
    "plt.plot(pred[:20])\n",
    "plt.plot(y_test.values[:20])\n",
    "plt.xticks([])\n",
    "plt.legend(['pred', 'test val'])"
   ]
  },
  {
   "cell_type": "code",
   "execution_count": null,
   "metadata": {},
   "outputs": [],
   "source": [
    "logr = LogisticRegression()\n",
    "logr.fit(X_train, y_train)\n",
    "logr.score(X_test, y_test)"
   ]
  }
 ],
 "metadata": {
  "kernelspec": {
   "display_name": "Python 3",
   "language": "python",
   "name": "python3"
  },
  "language_info": {
   "codemirror_mode": {
    "name": "ipython",
    "version": 3
   },
   "file_extension": ".py",
   "mimetype": "text/x-python",
   "name": "python",
   "nbconvert_exporter": "python",
   "pygments_lexer": "ipython3",
   "version": "3.6.5"
  }
 },
 "nbformat": 4,
 "nbformat_minor": 2
}
